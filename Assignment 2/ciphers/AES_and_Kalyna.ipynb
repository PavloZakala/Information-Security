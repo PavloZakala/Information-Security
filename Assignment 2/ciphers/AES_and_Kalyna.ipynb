{
  "nbformat": 4,
  "nbformat_minor": 0,
  "metadata": {
    "colab": {
      "name": "AES and Kalyna.ipynb",
      "provenance": [],
      "authorship_tag": "ABX9TyPITgaaOrmLNwjmdcSz30fD",
      "include_colab_link": true
    },
    "kernelspec": {
      "name": "python3",
      "display_name": "Python 3"
    }
  },
  "cells": [
    {
      "cell_type": "markdown",
      "metadata": {
        "id": "view-in-github",
        "colab_type": "text"
      },
      "source": [
        "<a href=\"https://colab.research.google.com/github/ZPavlo/Aes-and-Kalyna/blob/main/AES_and_Kalyna.ipynb\" target=\"_parent\"><img src=\"https://colab.research.google.com/assets/colab-badge.svg\" alt=\"Open In Colab\"/></a>"
      ]
    },
    {
      "cell_type": "code",
      "metadata": {
        "id": "GVmsZX0jF5Cg",
        "outputId": "5f331752-897a-4112-ce59-f59a119a261c",
        "colab": {
          "base_uri": "https://localhost:8080/"
        }
      },
      "source": [
        "import os, sys\n",
        "\n",
        "!git clone https://github.com/ZPavlo/Aes-and-Kalyna.git\n",
        "sys.path.append(\"Aes-and-Kalyna\")"
      ],
      "execution_count": 1,
      "outputs": [
        {
          "output_type": "stream",
          "text": [
            "Cloning into 'Aes-and-Kalyna'...\n",
            "remote: Enumerating objects: 28, done.\u001b[K\n",
            "remote: Counting objects: 100% (28/28), done.\u001b[K\n",
            "remote: Compressing objects: 100% (22/22), done.\u001b[K\n",
            "remote: Total 28 (delta 6), reused 19 (delta 3), pack-reused 0\u001b[K\n",
            "Unpacking objects: 100% (28/28), done.\n"
          ],
          "name": "stdout"
        }
      ]
    },
    {
      "cell_type": "markdown",
      "metadata": {
        "id": "F-5IdecjMT-B"
      },
      "source": [
        "# AES "
      ]
    },
    {
      "cell_type": "code",
      "metadata": {
        "id": "DngN9eYtMSd1"
      },
      "source": [
        "from aes.cipher import AES, AES_TYPE\n",
        "\n",
        "from tools import to_bytes"
      ],
      "execution_count": 2,
      "outputs": []
    },
    {
      "cell_type": "code",
      "metadata": {
        "id": "b9JmqKt7RwnF"
      },
      "source": [
        "compare_lists = lambda a, b: all([a_i == b_i for a_i, b_i in zip(a, b)])"
      ],
      "execution_count": 3,
      "outputs": []
    },
    {
      "cell_type": "markdown",
      "metadata": {
        "id": "dioZf08zM0ZT"
      },
      "source": [
        "## AES-128"
      ]
    },
    {
      "cell_type": "code",
      "metadata": {
        "id": "ETUx-hbzMeF6",
        "outputId": "37ad6505-3291-42eb-fa18-51f59c759912",
        "colab": {
          "base_uri": "https://localhost:8080/",
          "height": 158
        }
      },
      "source": [
        "PLAINTEXT = bytearray.fromhex(\"00112233445566778899aabbccddeeff\")\n",
        "EXPECT_CIPHERTEXT = bytearray.fromhex(\"69c4e0d86a7b0430d8cdb78070b4c55a\")\n",
        "KEY = bytearray.fromhex(\"000102030405060708090a0b0c0d0e0f\")\n",
        "\n",
        "PLAINTEXT = [w_i for w_i in PLAINTEXT]\n",
        "KEY = [w_i for w_i in KEY]\n",
        "\n",
        "aes_128 = AES(KEY, AES_TYPE.AES_128)\n",
        "\n",
        "print(\"  input:\\t{}\\n\".format(to_bytes(PLAINTEXT, \"\")))\n",
        "\n",
        "CIPHERTEXT = aes_128.encrypt(PLAINTEXT)\n",
        "\n",
        "print(\"encrypt:\\t{}\".format(to_bytes(CIPHERTEXT, \"\")))\n",
        "print(\" expect:\\t{}\".format(to_bytes(EXPECT_CIPHERTEXT, \"\")))\n",
        "\n",
        "print(\"encrypt == expect: {}\\n\".format(compare_lists(CIPHERTEXT, EXPECT_CIPHERTEXT)))\n",
        "\n",
        "RECONSTRUCTION_PLAINTEXT = aes_128.decrypt(CIPHERTEXT)\n",
        "\n",
        "print(\"decrypt:\\t{}\".format(to_bytes(RECONSTRUCTION_PLAINTEXT, \"\")))\n",
        "\n",
        "print(\" input == decrypt: {}\".format(compare_lists(PLAINTEXT,RECONSTRUCTION_PLAINTEXT)))"
      ],
      "execution_count": null,
      "outputs": [
        {
          "output_type": "stream",
          "text": [
            "  input:\t00112233445566778899aabbccddeeff\n",
            "\n",
            "encrypt:\t69c4e0d86a7b0430d8cdb78070b4c55a\n",
            " expect:\t69c4e0d86a7b0430d8cdb78070b4c55a\n",
            "encrypt == expect: True\n",
            "\n",
            "decrypt:\t00112233445566778899aabbccddeeff\n",
            " input == decrypt: True\n"
          ],
          "name": "stdout"
        }
      ]
    },
    {
      "cell_type": "markdown",
      "metadata": {
        "id": "FR_QPOfuQSyq"
      },
      "source": [
        "## AES-192\n"
      ]
    },
    {
      "cell_type": "code",
      "metadata": {
        "id": "BybtK-QbQSbL",
        "outputId": "203de714-7dd7-482d-89d9-fbee397ced3a",
        "colab": {
          "base_uri": "https://localhost:8080/",
          "height": 158
        }
      },
      "source": [
        "PLAINTEXT = bytearray.fromhex(\"00112233445566778899aabbccddeeff\")\n",
        "EXPECT_CIPHERTEXT = bytearray.fromhex(\"dda97ca4864cdfe06eaf70a0ec0d7191\")\n",
        "KEY = bytearray.fromhex(\"000102030405060708090a0b0c0d0e0f1011121314151617\")\n",
        "\n",
        "PLAINTEXT = [w_i for w_i in PLAINTEXT]\n",
        "KEY = [w_i for w_i in KEY]\n",
        "\n",
        "aes_192 = AES(KEY, AES_TYPE.AES_192)\n",
        "\n",
        "print(\"  input:\\t{}\\n\".format(to_bytes(PLAINTEXT, \"\")))\n",
        "\n",
        "CIPHERTEXT = aes_192.encrypt(PLAINTEXT)\n",
        "\n",
        "print(\"encrypt:\\t{}\".format(to_bytes(CIPHERTEXT, \"\")))\n",
        "print(\" expect:\\t{}\".format(to_bytes(EXPECT_CIPHERTEXT, \"\")))\n",
        "\n",
        "print(\"encrypt == expect: {}\\n\".format(compare_lists(CIPHERTEXT, EXPECT_CIPHERTEXT)))\n",
        "\n",
        "RECONSTRUCTION_PLAINTEXT = aes_192.decrypt(CIPHERTEXT)\n",
        "\n",
        "print(\"decrypt:\\t{}\".format(to_bytes(RECONSTRUCTION_PLAINTEXT, \"\")))\n",
        "\n",
        "print(\" input == decrypt: {}\".format(compare_lists(PLAINTEXT,RECONSTRUCTION_PLAINTEXT)))"
      ],
      "execution_count": null,
      "outputs": [
        {
          "output_type": "stream",
          "text": [
            "  input:\t00112233445566778899aabbccddeeff\n",
            "\n",
            "encrypt:\tdda97ca4864cdfe06eaf70a0ec0d7191\n",
            " expect:\tdda97ca4864cdfe06eaf70a0ec0d7191\n",
            "encrypt == expect: True\n",
            "\n",
            "decrypt:\t00112233445566778899aabbccddeeff\n",
            " input == decrypt: True\n"
          ],
          "name": "stdout"
        }
      ]
    },
    {
      "cell_type": "markdown",
      "metadata": {
        "id": "lIx0j-GdQXnU"
      },
      "source": [
        "## AES-256"
      ]
    },
    {
      "cell_type": "code",
      "metadata": {
        "id": "NlGBlJGEP0aG",
        "outputId": "1b3b1bf0-511c-401d-a7dd-a2415597d197",
        "colab": {
          "base_uri": "https://localhost:8080/",
          "height": 158
        }
      },
      "source": [
        "PLAINTEXT = bytearray.fromhex(\"00112233445566778899aabbccddeeff\")\n",
        "EXPECT_CIPHERTEXT = bytearray.fromhex(\"8ea2b7ca516745bfeafc49904b496089\")\n",
        "KEY = bytearray.fromhex(\"000102030405060708090a0b0c0d0e0f101112131415161718191a1b1c1d1e1f\")\n",
        "\n",
        "PLAINTEXT = [w_i for w_i in PLAINTEXT]\n",
        "KEY = [w_i for w_i in KEY]\n",
        "\n",
        "aes_256 = AES(KEY, AES_TYPE.AES_256)\n",
        "\n",
        "print(\"  input:\\t{}\\n\".format(to_bytes(PLAINTEXT, \"\")))\n",
        "\n",
        "CIPHERTEXT = aes_256.encrypt(PLAINTEXT)\n",
        "\n",
        "print(\"encrypt:\\t{}\".format(to_bytes(CIPHERTEXT, \"\")))\n",
        "print(\" expect:\\t{}\".format(to_bytes(EXPECT_CIPHERTEXT, \"\")))\n",
        "\n",
        "print(\"encrypt == expect: {}\\n\".format(compare_lists(CIPHERTEXT, EXPECT_CIPHERTEXT)))\n",
        "\n",
        "RECONSTRUCTION_PLAINTEXT = aes_256.decrypt(CIPHERTEXT)\n",
        "\n",
        "print(\"decrypt:\\t{}\".format(to_bytes(RECONSTRUCTION_PLAINTEXT, \"\")))\n",
        "\n",
        "print(\" input == decrypt: {}\".format(compare_lists(PLAINTEXT,RECONSTRUCTION_PLAINTEXT)))"
      ],
      "execution_count": null,
      "outputs": [
        {
          "output_type": "stream",
          "text": [
            "  input:\t00112233445566778899aabbccddeeff\n",
            "\n",
            "encrypt:\t8ea2b7ca516745bfeafc49904b496089\n",
            " expect:\t8ea2b7ca516745bfeafc49904b496089\n",
            "encrypt == expect: True\n",
            "\n",
            "decrypt:\t00112233445566778899aabbccddeeff\n",
            " input == decrypt: True\n"
          ],
          "name": "stdout"
        }
      ]
    },
    {
      "cell_type": "markdown",
      "metadata": {
        "id": "4NBDzpqwTkCK"
      },
      "source": [
        "## AES: Time test"
      ]
    },
    {
      "cell_type": "code",
      "metadata": {
        "id": "7w-hic35Tjcs"
      },
      "source": [
        "from random import randint\n",
        "BLOCK_COUNT = 1024 * 100\n",
        "\n",
        "data = [[randint(0, 255) for _ in range(16)] for _ in range(BLOCK_COUNT)]"
      ],
      "execution_count": null,
      "outputs": []
    },
    {
      "cell_type": "code",
      "metadata": {
        "id": "tqbavt-XVwr0",
        "outputId": "444461d1-f620-4ff8-93eb-f1e8bf8146f1",
        "colab": {
          "base_uri": "https://localhost:8080/",
          "height": 52
        }
      },
      "source": [
        "from datetime import datetime\n",
        "KEY = bytearray.fromhex(\"000102030405060708090a0b0c0d0e0f\")\n",
        "KEY = [w_i for w_i in KEY]\n",
        "\n",
        "aes_128 = AES(KEY, AES_TYPE.AES_128)\n",
        "\n",
        "t1 = datetime.now()\n",
        "for text in data:\n",
        "  aes_128.encrypt(text)\n",
        "\n",
        "t2 = datetime.now()\n",
        "\n",
        "print(\"Time: {} s\".format(t2 - t1))\n",
        "print(\"Data size: {} MB\".format(128 * BLOCK_COUNT / (1024 * 1024)))\n"
      ],
      "execution_count": null,
      "outputs": [
        {
          "output_type": "stream",
          "text": [
            "Time: 0:00:14.389700 s\n",
            "Data size: 12.5 MB\n"
          ],
          "name": "stdout"
        }
      ]
    },
    {
      "cell_type": "markdown",
      "metadata": {
        "id": "iKAnPRab1cDh"
      },
      "source": [
        "# Kalyna"
      ]
    },
    {
      "cell_type": "code",
      "metadata": {
        "id": "f0pep674V6aF"
      },
      "source": [
        "from kalyna.cipher import Kalyna, KALYNA_TYPE\n",
        "\n",
        "from tools import string2bytes, bytes2string"
      ],
      "execution_count": 6,
      "outputs": []
    },
    {
      "cell_type": "markdown",
      "metadata": {
        "id": "rffUSeqS3rDN"
      },
      "source": [
        "## Kalyna-128-128"
      ]
    },
    {
      "cell_type": "code",
      "metadata": {
        "id": "Cg83l02H10tK",
        "outputId": "4f0e91e0-f0ee-4c0c-8709-51dc26d77b10",
        "colab": {
          "base_uri": "https://localhost:8080/"
        }
      },
      "source": [
        "KEY = string2bytes(\"000102030405060708090A0B0C0D0E0F\")\n",
        "PLAINTEXT = string2bytes(\"101112131415161718191A1B1C1D1E1F\")\n",
        "EXPECT_CIPHERTEXT = string2bytes(\"81BF1C7D779BAC20E1C9EA39B4D2AD06\")\n",
        "\n",
        "kalyna_128_128 = Kalyna(KEY, KALYNA_TYPE.KALYNA_128_128)\n",
        "\n",
        "print(\"  input:\\t{}\\n\".format(bytes2string(PLAINTEXT)))\n",
        "\n",
        "CIPHERTEXT = kalyna_128_128.encrypt(PLAINTEXT)\n",
        "\n",
        "print(\"encrypt:\\t{}\".format(bytes2string(CIPHERTEXT)))\n",
        "print(\" expect:\\t{}\".format(bytes2string(EXPECT_CIPHERTEXT)))\n",
        "\n",
        "print(\"encrypt == expect: {}\\n\".format(compare_lists(CIPHERTEXT, EXPECT_CIPHERTEXT)))\n",
        "\n",
        "RECONSTRUCTION_PLAINTEXT = kalyna_128_128.decrypt(CIPHERTEXT)\n",
        "\n",
        "print(\"decrypt:\\t{}\".format(bytes2string(RECONSTRUCTION_PLAINTEXT)))\n",
        "\n",
        "print(\" input == decrypt: {}\".format(compare_lists(PLAINTEXT,RECONSTRUCTION_PLAINTEXT)))"
      ],
      "execution_count": 14,
      "outputs": [
        {
          "output_type": "stream",
          "text": [
            "  input:\t101112131415161718191a1b1c1d1e1f\n",
            "\n",
            "encrypt:\t81bf1c7d779bac20e1c9ea39b4d2ad06\n",
            " expect:\t81bf1c7d779bac20e1c9ea39b4d2ad06\n",
            "encrypt == expect: True\n",
            "\n",
            "decrypt:\t101112131415161718191a1b1c1d1e1f\n",
            " input == decrypt: True\n"
          ],
          "name": "stdout"
        },
        {
          "output_type": "stream",
          "text": [
            "Aes-and-Kalyna/kalyna/key_expansion.py:46: RuntimeWarning: overflow encountered in ulong_scalars\n",
            "  state[i] += v\n",
            "Aes-and-Kalyna/kalyna/key_expansion.py:52: RuntimeWarning: overflow encountered in ulong_scalars\n",
            "  state[i] -= v\n"
          ],
          "name": "stderr"
        }
      ]
    },
    {
      "cell_type": "markdown",
      "metadata": {
        "id": "7L-cAxzP33hc"
      },
      "source": [
        "## Kalyna-128-256"
      ]
    },
    {
      "cell_type": "code",
      "metadata": {
        "id": "QEsd14613zMT",
        "outputId": "b844bd92-c2d3-47f0-8902-59e979e3832a",
        "colab": {
          "base_uri": "https://localhost:8080/"
        }
      },
      "source": [
        "KEY = string2bytes(\"000102030405060708090A0B0C0D0E0F\"\n",
        "                   \"101112131415161718191A1B1C1D1E1F\")\n",
        "PLAINTEXT = string2bytes(\"202122232425262728292A2B2C2D2E2F\")\n",
        "EXPECT_CIPHERTEXT = string2bytes(\"58EC3E091000158A1148F7166F334F14\")\n",
        "\n",
        "kalyna_128_256 = Kalyna(KEY, KALYNA_TYPE.KALYNA_128_256)\n",
        "\n",
        "print(\"  input:\\t{}\\n\".format(bytes2string(PLAINTEXT)))\n",
        "\n",
        "CIPHERTEXT = kalyna_128_256.encrypt(PLAINTEXT)\n",
        "\n",
        "print(\"encrypt:\\t{}\".format(bytes2string(CIPHERTEXT)))\n",
        "print(\" expect:\\t{}\".format(bytes2string(EXPECT_CIPHERTEXT)))\n",
        "\n",
        "print(\"encrypt == expect: {}\\n\".format(compare_lists(CIPHERTEXT, EXPECT_CIPHERTEXT)))\n",
        "\n",
        "RECONSTRUCTION_PLAINTEXT = kalyna_128_256.decrypt(CIPHERTEXT)\n",
        "\n",
        "print(\"decrypt:\\t{}\".format(bytes2string(RECONSTRUCTION_PLAINTEXT)))\n",
        "\n",
        "print(\" input == decrypt: {}\".format(compare_lists(PLAINTEXT,RECONSTRUCTION_PLAINTEXT)))"
      ],
      "execution_count": 16,
      "outputs": [
        {
          "output_type": "stream",
          "text": [
            "  input:\t202122232425262728292a2b2c2d2e2f\n",
            "\n",
            "encrypt:\t58ec3e091000158a1148f7166f334f14\n",
            " expect:\t58ec3e091000158a1148f7166f334f14\n",
            "encrypt == expect: True\n",
            "\n",
            "decrypt:\t202122232425262728292a2b2c2d2e2f\n",
            " input == decrypt: True\n"
          ],
          "name": "stdout"
        },
        {
          "output_type": "stream",
          "text": [
            "Aes-and-Kalyna/kalyna/key_expansion.py:46: RuntimeWarning: overflow encountered in ulong_scalars\n",
            "  state[i] += v\n",
            "Aes-and-Kalyna/kalyna/key_expansion.py:52: RuntimeWarning: overflow encountered in ulong_scalars\n",
            "  state[i] -= v\n"
          ],
          "name": "stderr"
        }
      ]
    },
    {
      "cell_type": "markdown",
      "metadata": {
        "id": "l6YWfymV44_5"
      },
      "source": [
        "## Kalyna-256-256"
      ]
    },
    {
      "cell_type": "code",
      "metadata": {
        "id": "xXO0c6YZ5CTb",
        "outputId": "dc4a8b5f-7c8e-45fe-e2c4-ff82ae0bf897",
        "colab": {
          "base_uri": "https://localhost:8080/"
        }
      },
      "source": [
        "KEY = string2bytes(\"000102030405060708090A0B0C0D0E0F\"\n",
        "                   \"101112131415161718191A1B1C1D1E1F\")\n",
        "PLAINTEXT = string2bytes(\"202122232425262728292A2B2C2D2E2F\"\n",
        "                         \"303132333435363738393A3B3C3D3E3F\")\n",
        "EXPECT_CIPHERTEXT = string2bytes(\"F66E3D570EC92135AEDAE323DCBD2A8C\"\n",
        "                                 \"A03963EC206A0D5A88385C24617FD92C\")\n",
        "\n",
        "kalyna_256_256 = Kalyna(KEY, KALYNA_TYPE.KALYNA_256_256)\n",
        "\n",
        "print(\"  input:\\t{}\\n\".format(bytes2string(PLAINTEXT)))\n",
        "\n",
        "CIPHERTEXT = kalyna_256_256.encrypt(PLAINTEXT)\n",
        "\n",
        "print(\"encrypt:\\t{}\".format(bytes2string(CIPHERTEXT)))\n",
        "print(\" expect:\\t{}\".format(bytes2string(EXPECT_CIPHERTEXT)))\n",
        "\n",
        "print(\"encrypt == expect: {}\\n\".format(compare_lists(CIPHERTEXT, EXPECT_CIPHERTEXT)))\n",
        "\n",
        "RECONSTRUCTION_PLAINTEXT = kalyna_256_256.decrypt(CIPHERTEXT)\n",
        "\n",
        "print(\"decrypt:\\t{}\".format(bytes2string(RECONSTRUCTION_PLAINTEXT)))\n",
        "\n",
        "print(\" input == decrypt: {}\".format(compare_lists(PLAINTEXT,RECONSTRUCTION_PLAINTEXT)))"
      ],
      "execution_count": 17,
      "outputs": [
        {
          "output_type": "stream",
          "text": [
            "  input:\t202122232425262728292a2b2c2d2e2f303132333435363738393a3b3c3d3e3f\n",
            "\n",
            "encrypt:\tf66e3d570ec92135aedae323dcbd2a8ca03963ec206a0d5a88385c24617fd92c\n",
            " expect:\tf66e3d570ec92135aedae323dcbd2a8ca03963ec206a0d5a88385c24617fd92c\n",
            "encrypt == expect: True\n",
            "\n",
            "decrypt:\t202122232425262728292a2b2c2d2e2f303132333435363738393a3b3c3d3e3f\n",
            " input == decrypt: True\n"
          ],
          "name": "stdout"
        },
        {
          "output_type": "stream",
          "text": [
            "Aes-and-Kalyna/kalyna/key_expansion.py:46: RuntimeWarning: overflow encountered in ulong_scalars\n",
            "  state[i] += v\n",
            "Aes-and-Kalyna/kalyna/key_expansion.py:52: RuntimeWarning: overflow encountered in ulong_scalars\n",
            "  state[i] -= v\n"
          ],
          "name": "stderr"
        }
      ]
    },
    {
      "cell_type": "markdown",
      "metadata": {
        "id": "O2tlgcLa49N0"
      },
      "source": [
        "## Kalyna-256-512"
      ]
    },
    {
      "cell_type": "code",
      "metadata": {
        "id": "hisbmzci5CyD",
        "outputId": "1f0d47cd-1c54-424c-ec2f-03863e425df7",
        "colab": {
          "base_uri": "https://localhost:8080/"
        }
      },
      "source": [
        "KEY = string2bytes(\"000102030405060708090A0B0C0D0E0F\"\n",
        "                   \"101112131415161718191A1B1C1D1E1F\"\n",
        "                   \"202122232425262728292A2B2C2D2E2F\"\n",
        "                   \"303132333435363738393A3B3C3D3E3F\")\n",
        "PLAINTEXT = string2bytes(\"404142434445464748494A4B4C4D4E4F\"\n",
        "                         \"505152535455565758595A5B5C5D5E5F\")\n",
        "EXPECT_CIPHERTEXT = string2bytes(\"606990E9E6B7B67A4BD6D893D72268B7\"\n",
        "                                 \"8E02C83C3CD7E102FD2E74A8FDFE5DD9\")\n",
        "\n",
        "kalyna_256_512 = Kalyna(KEY, KALYNA_TYPE.KALYNA_256_512)\n",
        "\n",
        "print(\"  input:\\t{}\\n\".format(bytes2string(PLAINTEXT)))\n",
        "\n",
        "CIPHERTEXT = kalyna_256_512.encrypt(PLAINTEXT)\n",
        "\n",
        "print(\"encrypt:\\t{}\".format(bytes2string(CIPHERTEXT)))\n",
        "print(\" expect:\\t{}\".format(bytes2string(EXPECT_CIPHERTEXT)))\n",
        "\n",
        "print(\"encrypt == expect: {}\\n\".format(compare_lists(CIPHERTEXT, EXPECT_CIPHERTEXT)))\n",
        "\n",
        "RECONSTRUCTION_PLAINTEXT = kalyna_256_512.decrypt(CIPHERTEXT)\n",
        "\n",
        "print(\"decrypt:\\t{}\".format(bytes2string(RECONSTRUCTION_PLAINTEXT)))\n",
        "\n",
        "print(\" input == decrypt: {}\".format(compare_lists(PLAINTEXT,RECONSTRUCTION_PLAINTEXT)))"
      ],
      "execution_count": 18,
      "outputs": [
        {
          "output_type": "stream",
          "text": [
            "Aes-and-Kalyna/kalyna/key_expansion.py:46: RuntimeWarning: overflow encountered in ulong_scalars\n",
            "  state[i] += v\n",
            "Aes-and-Kalyna/kalyna/key_expansion.py:52: RuntimeWarning: overflow encountered in ulong_scalars\n",
            "  state[i] -= v\n"
          ],
          "name": "stderr"
        },
        {
          "output_type": "stream",
          "text": [
            "  input:\t404142434445464748494a4b4c4d4e4f505152535455565758595a5b5c5d5e5f\n",
            "\n",
            "encrypt:\t606990e9e6b7b67a4bd6d893d72268b78e02c83c3cd7e102fd2e74a8fdfe5dd9\n",
            " expect:\t606990e9e6b7b67a4bd6d893d72268b78e02c83c3cd7e102fd2e74a8fdfe5dd9\n",
            "encrypt == expect: True\n",
            "\n",
            "decrypt:\t404142434445464748494a4b4c4d4e4f505152535455565758595a5b5c5d5e5f\n",
            " input == decrypt: True\n"
          ],
          "name": "stdout"
        }
      ]
    },
    {
      "cell_type": "markdown",
      "metadata": {
        "id": "1_ZYdQKa49Ra"
      },
      "source": [
        "## Kalyna-512-512"
      ]
    },
    {
      "cell_type": "code",
      "metadata": {
        "id": "8lZrFjZ05DQs",
        "outputId": "b0ae20fb-b8ba-4bed-ebdf-3a8832ea0d8c",
        "colab": {
          "base_uri": "https://localhost:8080/"
        }
      },
      "source": [
        "KEY = string2bytes(\"000102030405060708090A0B0C0D0E0F\"\n",
        "                   \"101112131415161718191A1B1C1D1E1F\"\n",
        "                   \"202122232425262728292A2B2C2D2E2F\"\n",
        "                   \"303132333435363738393A3B3C3D3E3F\")\n",
        "PLAINTEXT = string2bytes(\"404142434445464748494A4B4C4D4E4F\"\n",
        "                         \"505152535455565758595A5B5C5D5E5F\"\n",
        "                         \"606162636465666768696A6B6C6D6E6F\"\n",
        "                         \"707172737475767778797A7B7C7D7E7F\")\n",
        "EXPECT_CIPHERTEXT = string2bytes(\"4A26E31B811C356AA61DD6CA0596231A\"\n",
        "                                 \"67BA8354AA47F3A13E1DEEC320EB56B8\"\n",
        "                                 \"95D0F417175BAB662FD6F134BB15C86C\"\n",
        "                                 \"CB906A26856EFEB7C5BC6472940DD9D9\")\n",
        "\n",
        "kalyna_512_512 = Kalyna(KEY, KALYNA_TYPE.KALYNA_512_512)\n",
        "\n",
        "print(\"  input:\\t{}\\n\".format(bytes2string(PLAINTEXT)))\n",
        "\n",
        "CIPHERTEXT = kalyna_512_512.encrypt(PLAINTEXT)\n",
        "\n",
        "print(\"encrypt:\\t{}\".format(bytes2string(CIPHERTEXT)))\n",
        "print(\" expect:\\t{}\".format(bytes2string(EXPECT_CIPHERTEXT)))\n",
        "\n",
        "print(\"encrypt == expect: {}\\n\".format(compare_lists(CIPHERTEXT, EXPECT_CIPHERTEXT)))\n",
        "\n",
        "RECONSTRUCTION_PLAINTEXT = kalyna_512_512.decrypt(CIPHERTEXT)\n",
        "\n",
        "print(\"decrypt:\\t{}\".format(bytes2string(RECONSTRUCTION_PLAINTEXT)))\n",
        "\n",
        "print(\" input == decrypt: {}\".format(compare_lists(PLAINTEXT,RECONSTRUCTION_PLAINTEXT)))"
      ],
      "execution_count": 20,
      "outputs": [
        {
          "output_type": "stream",
          "text": [
            "Aes-and-Kalyna/kalyna/key_expansion.py:46: RuntimeWarning: overflow encountered in ulong_scalars\n",
            "  state[i] += v\n"
          ],
          "name": "stderr"
        },
        {
          "output_type": "stream",
          "text": [
            "  input:\t404142434445464748494a4b4c4d4e4f505152535455565758595a5b5c5d5e5f606162636465666768696a6b6c6d6e6f707172737475767778797a7b7c7d7e7f\n",
            "\n",
            "encrypt:\t4a26e31b811c356aa61dd6ca0596231a67ba8354aa47f3a13e1deec320eb56b895d0f417175bab662fd6f134bb15c86ccb906a26856efeb7c5bc6472940dd9d9\n",
            " expect:\t4a26e31b811c356aa61dd6ca0596231a67ba8354aa47f3a13e1deec320eb56b895d0f417175bab662fd6f134bb15c86ccb906a26856efeb7c5bc6472940dd9d9\n",
            "encrypt == expect: True\n",
            "\n",
            "decrypt:\t404142434445464748494a4b4c4d4e4f505152535455565758595a5b5c5d5e5f606162636465666768696a6b6c6d6e6f707172737475767778797a7b7c7d7e7f\n",
            " input == decrypt: True\n"
          ],
          "name": "stdout"
        },
        {
          "output_type": "stream",
          "text": [
            "Aes-and-Kalyna/kalyna/key_expansion.py:52: RuntimeWarning: overflow encountered in ulong_scalars\n",
            "  state[i] -= v\n"
          ],
          "name": "stderr"
        }
      ]
    },
    {
      "cell_type": "markdown",
      "metadata": {
        "id": "_BrK9N-66gZ7"
      },
      "source": [
        "## Kalyna: Time test"
      ]
    },
    {
      "cell_type": "code",
      "metadata": {
        "id": "o6WK1f-16ZxN"
      },
      "source": [
        "import numpy as np\n",
        "\n",
        "from random import randint\n",
        "BLOCK_COUNT = 1024 \n",
        "\n",
        "data = [np.random.randint(9999999999, size=2, dtype=np.uint64) for _ in range(BLOCK_COUNT)]"
      ],
      "execution_count": 24,
      "outputs": []
    },
    {
      "cell_type": "code",
      "metadata": {
        "id": "iKvlYxR96mGZ",
        "outputId": "ad04b914-bc77-4604-a626-8fddb108b1c0",
        "colab": {
          "base_uri": "https://localhost:8080/"
        }
      },
      "source": [
        "from datetime import datetime\n",
        "KEY = string2bytes(\"000102030405060708090a0b0c0d0e0f\")\n",
        "\n",
        "kalyna_128_128 = Kalyna(KEY, KALYNA_TYPE.KALYNA_128_128)\n",
        "\n",
        "t1 = datetime.now()\n",
        "for text in data:\n",
        "  kalyna_128_128.encrypt(text)\n",
        "\n",
        "t2 = datetime.now()\n",
        "\n",
        "print(\"Time: {} s\".format(t2 - t1))\n",
        "print(\"Data size: {} MB\".format(128 * BLOCK_COUNT / (1024 * 1024)))\n"
      ],
      "execution_count": 25,
      "outputs": [
        {
          "output_type": "stream",
          "text": [
            "Aes-and-Kalyna/kalyna/key_expansion.py:46: RuntimeWarning: overflow encountered in ulong_scalars\n",
            "  state[i] += v\n"
          ],
          "name": "stderr"
        },
        {
          "output_type": "stream",
          "text": [
            "Time: 0:00:20.503460 s\n",
            "Data size: 0.125 MB\n"
          ],
          "name": "stdout"
        }
      ]
    }
  ]
}