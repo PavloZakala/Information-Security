{
  "nbformat": 4,
  "nbformat_minor": 0,
  "metadata": {
    "colab": {
      "name": "rc4-aes_modes-salsa20.ipynb",
      "provenance": [],
      "authorship_tag": "ABX9TyPx+MTinXPHSMZdOQVFIG7k",
      "include_colab_link": true
    },
    "kernelspec": {
      "name": "python3",
      "display_name": "Python 3"
    }
  },
  "cells": [
    {
      "cell_type": "markdown",
      "metadata": {
        "id": "view-in-github",
        "colab_type": "text"
      },
      "source": [
        "<a href=\"https://colab.research.google.com/github/ZPavlo/RC4-AES_modes-Salsa20/blob/main/rc4_aes_modes_salsa20.ipynb\" target=\"_parent\"><img src=\"https://colab.research.google.com/assets/colab-badge.svg\" alt=\"Open In Colab\"/></a>"
      ]
    },
    {
      "cell_type": "code",
      "metadata": {
        "id": "uvOD0FG5j1Sc",
        "outputId": "fa7af1dc-d76a-4631-c39c-7808ff96e2f6",
        "colab": {
          "base_uri": "https://localhost:8080/",
          "height": 266
        }
      },
      "source": [
        "import os, sys\n",
        "\n",
        "!git clone --recursive https://github.com/ZPavlo/RC4-AES_modes-Salsa20.git\n",
        "sys.path.append(\"RC4-AES_modes-Salsa20\")\n",
        "sys.path.append(\"RC4-AES_modes-Salsa20/ciphers\")"
      ],
      "execution_count": 1,
      "outputs": [
        {
          "output_type": "stream",
          "text": [
            "Cloning into 'RC4-AES_modes-Salsa20'...\n",
            "remote: Enumerating objects: 47, done.\u001b[K\n",
            "remote: Counting objects: 100% (47/47), done.\u001b[K\n",
            "remote: Compressing objects: 100% (30/30), done.\u001b[K\n",
            "remote: Total 47 (delta 23), reused 33 (delta 14), pack-reused 0\u001b[K\n",
            "Unpacking objects: 100% (47/47), done.\n",
            "Submodule 'ciphers' (https://github.com/ZPavlo/Aes-and-Kalyna.git) registered for path 'ciphers'\n",
            "Cloning into '/content/RC4-AES_modes-Salsa20/ciphers'...\n",
            "remote: Enumerating objects: 31, done.        \n",
            "remote: Counting objects: 100% (31/31), done.        \n",
            "remote: Compressing objects: 100% (25/25), done.        \n",
            "remote: Total 31 (delta 7), reused 19 (delta 3), pack-reused 0        \n",
            "Submodule path 'ciphers': checked out 'db192285d634172014772819ede81e728a9f3624'\n"
          ],
          "name": "stdout"
        }
      ]
    },
    {
      "cell_type": "markdown",
      "metadata": {
        "id": "c3i-q7BLmCaG"
      },
      "source": [
        "# Time test\n"
      ]
    },
    {
      "cell_type": "code",
      "metadata": {
        "id": "6-6HPi_Clpzx"
      },
      "source": [
        "from rc4 import RC4, encode, decode\n",
        "from salsa20 import Salsa\n",
        "from modes.cbc import CBCMode\n",
        "from modes.cfb import CFBMode\n",
        "from modes.ctr import CTRMode\n",
        "from modes.ecb import ECBMode\n",
        "from modes.ofb import OFBMode"
      ],
      "execution_count": 2,
      "outputs": []
    },
    {
      "cell_type": "code",
      "metadata": {
        "id": "2sujSTMWnTYx"
      },
      "source": [
        "import numpy as np\n",
        "\n",
        "data = np.random.randint(256, size=(16 * 4 * 1024 * 10,), dtype=np.uint8)"
      ],
      "execution_count": 3,
      "outputs": []
    },
    {
      "cell_type": "code",
      "metadata": {
        "id": "yPfqvIaMpL32"
      },
      "source": [
        "from ciphers.aes.cipher import AES, AES_TYPE\n",
        "\n",
        "key = bytearray.fromhex(\"000102030405060708090a0b0c0d0e0f\")\n",
        "KEY = [w_i for w_i in key]\n",
        "\n",
        "rc4 = RC4(KEY)\n",
        "aes_cbc_128 = CBCMode(AES(key, AES_TYPE.AES_128), 16)\n",
        "aes_cfb_128 = CFBMode(AES(key, AES_TYPE.AES_128), 16)\n",
        "aes_ecb_128 = ECBMode(AES(key, AES_TYPE.AES_128), 16)\n",
        "aes_ctr_128 = CTRMode(AES(key, AES_TYPE.AES_128), 16)\n",
        "aes_ofb_128 = OFBMode(AES(key, AES_TYPE.AES_128), 16)\n",
        "salsa20 = Salsa(KEY+KEY)"
      ],
      "execution_count": 4,
      "outputs": []
    },
    {
      "cell_type": "code",
      "metadata": {
        "id": "7LTAQW0ErGr0",
        "outputId": "13150ec8-7e67-4c0a-d79d-a91b0c29cc0a",
        "colab": {
          "base_uri": "https://localhost:8080/",
          "height": 195
        }
      },
      "source": [
        "from datetime import datetime\n",
        "\n",
        "def get_time(cipher, message, name):\n",
        "    t1 = datetime.now()\n",
        "    cipher.encrypt(message)\n",
        "    print(\"{} :\".format(name), datetime.now() - t1)\n",
        "\n",
        "get_time(rc4, data.tolist(), \"RC4\")\n",
        "get_time(aes_cbc_128, data, \"CBC mode\")\n",
        "get_time(aes_cfb_128, data, \"CFB mode\")\n",
        "get_time(aes_ecb_128, data, \"ECB mode\")\n",
        "get_time(aes_ctr_128, data, \"CTR mode\")\n",
        "get_time(aes_ofb_128, data, \"OFB mode\")\n",
        "get_time(salsa20, data.tolist(), \"Salsa20\")\n"
      ],
      "execution_count": 5,
      "outputs": [
        {
          "output_type": "stream",
          "text": [
            "RC4-AES_modes-Salsa20/rc4.py:28: RuntimeWarning: overflow encountered in ubyte_scalars\n",
            "  res.append(item ^ self._s[(self._s[i] + self._s[j]) % 256])\n"
          ],
          "name": "stderr"
        },
        {
          "output_type": "stream",
          "text": [
            "RC4 : 0:00:05.518298\n",
            "CBC mode : 0:00:05.994806\n",
            "CFB mode : 0:00:05.955153\n",
            "ECB mode : 0:00:05.883481\n",
            "CTR mode : 0:00:06.127117\n",
            "OFB mode : 0:00:06.042344\n",
            "Salsa20 : 0:00:01.967056\n"
          ],
          "name": "stdout"
        }
      ]
    }
  ]
}